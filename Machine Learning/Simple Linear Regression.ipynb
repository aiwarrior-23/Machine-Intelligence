{
 "cells": [
  {
   "cell_type": "code",
   "execution_count": 52,
   "metadata": {},
   "outputs": [
    {
     "data": {
      "image/png": "[encoded data removed]",
      "text/plain": [
       "<Figure size 432x288 with 1 Axes>"
      ]
     },
     "metadata": {
      "needs_background": "light"
     },
     "output_type": "display_data"
    },
    {
     "name": "stdout",
     "output_type": "stream",
     "text": [
      "Beta1 Value is [2.09997195]\n",
      "Intercept Value is [158836.15189688]\n",
      "Standard Error is 5867752122.509074\n",
      "R2 Value is 0.0696133153821119\n"
     ]
    }
   ],
   "source": [
    "#Importing Necessary packages\n",
    "import numpy as np\n",
    "from sklearn import linear_model\n",
    "from sklearn.metrics import mean_squared_error, r2_score\n",
    "import matplotlib.pyplot as plt\n",
    "import pandas as pd\n",
    "\n",
    "#Reading Data\n",
    "data = pd.read_csv(\"Data/hp_train.csv\")\n",
    "data.head()\n",
    "\n",
    "#Defining Dependent and Independent Variables\n",
    "Y = pd.DataFrame(data.SalePrice)\n",
    "X = pd.DataFrame(data.LotArea)\n",
    "\n",
    "#Visualizing the data\n",
    "plt.scatter(X, Y)\n",
    "plt.show()\n",
    "\n",
    "# create a linear regression model\n",
    "model = linear_model.LinearRegression()\n",
    " \n",
    "# train the model with the data (X, Y)\n",
    "model.fit(X,Y)\n",
    "\n",
    "# Getting Coefficients\n",
    "print( \"Beta1 Value is\", model.coef_[0])\n",
    "print( \"Intercept Value is\", model.intercept_)\n",
    " \n",
    "# We can predict using the model\n",
    "y_pred = model.predict(X)\n",
    " \n",
    "# Calculating the mean square error and the R2 statistic\n",
    "print( \"Standard Error is\", mean_squared_error(Y, y_pred))\n",
    "print( \"R2 Value is\", r2_score(Y, y_pred))"
   ]
  },
  {
   "cell_type": "code",
   "execution_count": null,
   "metadata": {},
   "outputs": [],
   "source": []
  }
 ],
 "metadata": {
  "kernelspec": {
   "display_name": "Python_3",
   "language": "python",
   "name": "python_3"
  },
  "language_info": {
   "codemirror_mode": {
    "name": "ipython",
    "version": 3
   },
   "file_extension": ".py",
   "mimetype": "text/x-python",
   "name": "python",
   "nbconvert_exporter": "python",
   "pygments_lexer": "ipython3",
   "version": "3.7.4"
  }
 },
 "nbformat": 4,
 "nbformat_minor": 2
}
